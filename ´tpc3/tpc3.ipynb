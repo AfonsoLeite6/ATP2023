{
 "cells": [
  {
   "cell_type": "code",
   "execution_count": 11,
   "metadata": {},
   "outputs": [
    {
     "name": "stdout",
     "output_type": "stream",
     "text": [
      " Escolha um modo de jogo: modo de jogo 1 o pc advinha o número/ modo 2 o utilizador advimha o número\n",
      "O número 30 é maior do que o número sorteado\n",
      "O número 20 é maior do que o número sorteado\n",
      "O número 17 é maior do que o número sorteado\n",
      "Acertou em 4 tentativas\n"
     ]
    }
   ],
   "source": [
    "# tpc3\n",
    "\n",
    "print(\" Escolha um modo de jogo: modo de jogo 1 o pc advinha o número/ modo 2 o utilizador advimha o número\")\n",
    "modo = int(input(\"modo 1 ou modo 2\"))\n",
    "if modo == 1:\n",
    "    sup= 100\n",
    "    inf= 0\n",
    "    n= 0\n",
    "    t= 0\n",
    "    acertou= str(\"acertou\") \n",
    "    pergunta= str()\n",
    "    while pergunta!= str(\"acertou\"):\n",
    "        t=t+1\n",
    "        n= int((sup+inf)/2)\n",
    "        pergunta=input(\"o seu número é \"+str(n)+ \" ?\")\n",
    "        if pergunta==\"maior\":\n",
    "            inf=n \n",
    "        else : \n",
    "            sup=n\n",
    "    print (\"o computador acertou o número em \"+ str(t)+\" tentativas\")\n",
    "if modo== 2 :\n",
    "    import random\n",
    "    n= random.randrange(1,100)\n",
    "    t=1\n",
    "    x=int(input(\"insira um número de 1 a 100\"))\n",
    "    while x!=n :\n",
    "        t= t+1\n",
    "        if  x>n:\n",
    "            print(\"O número \" + str(x) + \" é maior do que o número sorteado\",flush=x!=n)\n",
    "        else:\n",
    "            print(\"O número \" + str(x) + \" é menor do que o número sorteado\",flush=x!=n)\n",
    "        x=int(input(\"diga um número\"))\n",
    "    print(\"Acertou em \"+ str(t) + \" tentativas!\")"
   ]
  }
 ],
 "metadata": {
  "kernelspec": {
   "display_name": "Python 3",
   "language": "python",
   "name": "python3"
  },
  "language_info": {
   "codemirror_mode": {
    "name": "ipython",
    "version": 3
   },
   "file_extension": ".py",
   "mimetype": "text/x-python",
   "name": "python",
   "nbconvert_exporter": "python",
   "pygments_lexer": "ipython3",
   "version": "3.11.5"
  },
  "orig_nbformat": 4
 },
 "nbformat": 4,
 "nbformat_minor": 2
}
