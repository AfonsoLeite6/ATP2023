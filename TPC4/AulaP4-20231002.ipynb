{
 "cells": [
  {
   "cell_type": "markdown",
   "id": "1e545158",
   "metadata": {},
   "source": [
    "# Aula Prática 4 (guião)\n",
    "### Semana de 2 a 6 de Outubro de 2023\n",
    "### José Carlos Ramalho e Luís Cunha\n",
    "### Sinopsis:\n",
    "Algoritmos sobre listas."
   ]
  },
  {
   "cell_type": "markdown",
   "id": "e38d18c4-d7d7-4fea-9bc6-e3f3c903386b",
   "metadata": {},
   "source": [
    "### Exercício 1: Criar uma lista \n",
    "- Defina uma função que recebe um argumento **N** e devolve uma  lista com os números ímpares até **N**;\n",
    "- Crie um programa que chama a função e imprime a lista resultante."
   ]
  },
  {
   "cell_type": "code",
   "execution_count": 101,
   "id": "af973146-3bb4-4fa8-ba6c-b887b79ccff8",
   "metadata": {},
   "outputs": [
    {
     "data": {
      "text/plain": [
       "[1, 3, 5, 7, 9]"
      ]
     },
     "execution_count": 101,
     "metadata": {},
     "output_type": "execute_result"
    }
   ],
   "source": [
    "# Solução do exercício 1\n",
    "def criaLista(N):\n",
    "    lista=[]\n",
    "    for n in range(0,N+1):\n",
    "         if n % 2 ==1:\n",
    "             lista.append(n)\n",
    "    return lista\n",
    "\n",
    "criaLista(10)"
   ]
  },
  {
   "cell_type": "markdown",
   "id": "bdcbffb0",
   "metadata": {},
   "source": [
    "### Exercício 2: Ler uma lista de N números\n",
    "- Defina uma função que recebe um argumento **N** e lê **N** números armazenando-os numa lista que é devolvida como resultado;\n",
    "- Crie um programa que chama a função e imprime a lista resultante."
   ]
  },
  {
   "cell_type": "code",
   "execution_count": 22,
   "id": "af973146-3bb4-4fa8-ba6c-b887b79ccff8",
   "metadata": {},
   "outputs": [
    {
     "name": "stdout",
     "output_type": "stream",
     "text": [
      "[9, 6, 7]\n"
     ]
    }
   ],
   "source": [
    "# Solução do exercício 2\n",
    "def leLista(N):\n",
    "    k=0\n",
    "    n=[]\n",
    "    while k<N:\n",
    "        k=k+1\n",
    "        n.append(int(input(\"introduza um número\")))\n",
    "    return n\n",
    "N=int(input(\"introduza um total de números\"))\n",
    "print(leLista(N))"
   ]
  },
  {
   "cell_type": "markdown",
   "id": "bdcbffb0",
   "metadata": {},
   "source": [
    "### Exercício 3: Somar uma lista de números\n",
    "- Defina uma função que recebe uma lista como argumento e devolve a soma dos números nessa lista."
   ]
  },
  {
   "cell_type": "code",
   "execution_count": null,
   "id": "64ad6f7b",
   "metadata": {},
   "outputs": [
    {
     "data": {
      "text/plain": [
       "57"
      ]
     },
     "execution_count": 49,
     "metadata": {},
     "output_type": "execute_result"
    }
   ],
   "source": [
    "# Solução do exercício 3\n",
    "def somaLista (lista):\n",
    "     soma = 0\n",
    "     for e in lista:\n",
    "          soma = soma + e\n",
    "     \n",
    "     return soma\n",
    "\n",
    "somaLista ([1,6,7,43])\n",
    "\n",
    "     "
   ]
  },
  {
   "cell_type": "markdown",
   "id": "65565661",
   "metadata": {},
   "source": [
    "### Exercício 4: Quadrado dos elementos de uma lista\n",
    "\n",
    "- Defina uma função que recebe uma lista como argumento e devolve uma nova lista com os quadrados de cada número da lista inicial. \n",
    "\n",
    "#### Input (exemplo)\n",
    "in: [1, 2, 3, 4]\n",
    "#### Output (exemplo)\n",
    "out: [1, 4, 9, 16]"
   ]
  },
  {
   "cell_type": "code",
   "execution_count": 2,
   "id": "7e3e2775",
   "metadata": {},
   "outputs": [
    {
     "data": {
      "text/plain": [
       "[1, 4, 9, 16]"
      ]
     },
     "execution_count": 2,
     "metadata": {},
     "output_type": "execute_result"
    }
   ],
   "source": [
    "# Solução do exercício 4\n",
    "def quadrados(lista):\n",
    "    lista1=[]\n",
    "    for e in lista:\n",
    "        lista1.append (e*e)\n",
    "    return lista1\n",
    "quadrados([1,2,3,4])"
   ]
  },
  {
   "cell_type": "markdown",
   "id": "bdcbffb0",
   "metadata": {},
   "source": [
    "### Exercício 5: Calcular a média duma lista de números\n",
    "- Defina uma função que recebe uma lista como argumento e devolve a média dos números nessa lista."
   ]
  },
  {
   "cell_type": "code",
   "execution_count": null,
   "id": "a6c32b2e",
   "metadata": {},
   "outputs": [
    {
     "data": {
      "text/plain": [
       "3.5"
      ]
     },
     "execution_count": 8,
     "metadata": {},
     "output_type": "execute_result"
    }
   ],
   "source": [
    "# Solução do exercício 5\n",
    "def criaLista(N):\n",
    "    lista=[]\n",
    "    for n in  range (0,N+1):\n",
    "        if n*2<15:\n",
    "            lista.append(n)\n",
    "\n",
    "    return lista\n",
    "lista=criaLista(9)            \n",
    "def mediaLista(lista):\n",
    "    soma=0\n",
    "    for n in lista:\n",
    "     soma=soma+n\n",
    "    \n",
    "    return soma/len(lista)\n",
    "\n",
    "criaLista(9)\n",
    "mediaLista(lista)\n"
   ]
  },
  {
   "cell_type": "markdown",
   "id": "f41ef69b",
   "metadata": {},
   "source": [
    "### Exercício 6: Maior de uma sequência\n",
    "- Defina uma função que recebe uma lista como argumento e devolve o maior número nessa lista."
   ]
  },
  {
   "cell_type": "code",
   "execution_count": 10,
   "id": "86f5b24d",
   "metadata": {},
   "outputs": [
    {
     "data": {
      "text/plain": [
       "90"
      ]
     },
     "execution_count": 10,
     "metadata": {},
     "output_type": "execute_result"
    }
   ],
   "source": [
    "# Solução do exercício 6\n",
    "lista=[10,3,57,90]\n",
    "def maiorLista(lista):\n",
    "    maior=0\n",
    "    for n in lista:\n",
    "        if n>maior:\n",
    "            maior=n\n",
    "\n",
    "\n",
    "    \n",
    "    return(maior)\n",
    "maiorLista(lista)"
   ]
  },
  {
   "cell_type": "markdown",
   "id": "d11cdd11",
   "metadata": {},
   "source": [
    "### Exercício 6: Menor de uma sequência\n",
    "- Defina uma função que recebe uma lista como argumento e devolve o menor número nessa lista."
   ]
  },
  {
   "cell_type": "code",
   "execution_count": null,
   "id": "7549c7d7",
   "metadata": {},
   "outputs": [],
   "source": [
    "# Solução do exercício 6\n",
    "def menorLista(lista):\n",
    "    \n",
    "    return"
   ]
  },
  {
   "cell_type": "markdown",
   "id": "bb597e57",
   "metadata": {},
   "source": [
    "### Exercício 7: Contar Ocorrências\n",
    "- Defina uma função que recebe uma lista e um elemento como argumento, e que devolve o número de ocurrências desse elemento na lista."
   ]
  },
  {
   "cell_type": "code",
   "execution_count": 19,
   "id": "e426e923",
   "metadata": {},
   "outputs": [
    {
     "data": {
      "text/plain": [
       "2"
      ]
     },
     "execution_count": 19,
     "metadata": {},
     "output_type": "execute_result"
    }
   ],
   "source": [
    "# Solução do exercício 7\n",
    "lista=[1,1,4,5,6,3,3,3,2,8,9,6]\n",
    "\n",
    "def occor(lista, elem):\n",
    "    vezes=0\n",
    "    for x in lista:\n",
    "        if x==elem:\n",
    "            vezes=vezes+1\n",
    "    \n",
    "    return(vezes)\n",
    "occor(lista,1)"
   ]
  },
  {
   "cell_type": "markdown",
   "id": "775a02a5",
   "metadata": {},
   "source": [
    "### Exercício 8: Contar strings\n",
    "- Defina uma função que recebe uma lista de strings como argumento e devolve número de strings nessa lista que:\n",
    "    1. Têm tamanho maior ou igual a 3;\n",
    "    2. Começam e terminam pelo mesmo caracter.\n",
    "#### Input (exemplo)\n",
    "in: ['abc', 'xyz', 'ab', '1221']\n",
    "#### Output (exemplo)\n",
    "out1: 3\n",
    "\n",
    "out2: 1"
   ]
  },
  {
   "cell_type": "code",
   "execution_count": 27,
   "id": "7390bc6a",
   "metadata": {},
   "outputs": [
    {
     "data": {
      "text/plain": [
       "(3, 4)"
      ]
     },
     "execution_count": 27,
     "metadata": {},
     "output_type": "execute_result"
    }
   ],
   "source": [
    "# Solução do exercício 8\n",
    "lista=[\"111\",\"123\",\"22\",\"90\",\"4664\",\"88\"]\n",
    "def contarStringsLista(lista):\n",
    "    out1=0\n",
    "    out2=0\n",
    "    for x in lista:\n",
    "        if len(x)>=3:\n",
    "            out1=out1+1\n",
    "        if x[0]==x[-1]:\n",
    "            out2=out2+1\n",
    "    \n",
    "    \n",
    "    return (out1,out2)\n",
    "contarStringsLista(lista)"
   ]
  },
  {
   "cell_type": "markdown",
   "id": "f9ba457b",
   "metadata": {},
   "source": [
    "### Exercício 9: Remover duplicados\n",
    "- Defina uma função que recebe uma lista como argumento e devolve uma nova lista eliminando elementos repetidos."
   ]
  },
  {
   "cell_type": "code",
   "execution_count": 28,
   "id": "0abc61e5",
   "metadata": {},
   "outputs": [
    {
     "data": {
      "text/plain": [
       "[9, 10, 4, 5, 6, 7]"
      ]
     },
     "execution_count": 28,
     "metadata": {},
     "output_type": "execute_result"
    }
   ],
   "source": [
    "# Solução do exercício 9\n",
    "lista=[9,9,10,4,5,6,9,9,5,4,7]\n",
    "lista1=[]\n",
    "def remDupLista(lista):\n",
    "    for x in lista:\n",
    "        if x not in lista1:\n",
    "            lista1.append(x)\n",
    "\n",
    "    \n",
    "    return(lista1)\n",
    "remDupLista(lista)"
   ]
  },
  {
   "cell_type": "markdown",
   "id": "9bc471d8",
   "metadata": {},
   "source": [
    "### Exercício 10: eVazia?\n",
    "- Defina uma função que recebe uma lista como argumento e devolve um resultado booleano verdadeiro se a lista estiver vazia."
   ]
  },
  {
   "cell_type": "code",
   "execution_count": 31,
   "id": "18cf2aff",
   "metadata": {},
   "outputs": [
    {
     "data": {
      "text/plain": [
       "True"
      ]
     },
     "execution_count": 31,
     "metadata": {},
     "output_type": "execute_result"
    }
   ],
   "source": [
    "# Solução do exercício 10\n",
    "lista=[]\n",
    "def eVazia(lista):\n",
    "\n",
    "    \n",
    "    return not bool(lista)\n",
    "eVazia(lista)"
   ]
  },
  {
   "cell_type": "markdown",
   "id": "72b8fac0",
   "metadata": {},
   "source": [
    "### Exercício 11: Copiar lista\n",
    "- Defina uma função que recebe uma lista como argumento e devolve uma nova lista correspondente a uma cópia da lista recebida."
   ]
  },
  {
   "cell_type": "code",
   "execution_count": 37,
   "id": "a61ca503",
   "metadata": {},
   "outputs": [
    {
     "data": {
      "text/plain": [
       "[4, 5, 6, 7, 9, 34, 56, 34]"
      ]
     },
     "execution_count": 37,
     "metadata": {},
     "output_type": "execute_result"
    }
   ],
   "source": [
    "# Solução do exercício 11\n",
    "lista=[4,5,6,7,9,34,56,34]\n",
    "lista2=[]\n",
    "def copiarLista(lista):\n",
    "    for x in lista:\n",
    "        lista1=lista.copy()\n",
    "\n",
    "    \n",
    "    return lista1\n",
    "copiarLista(lista)\n",
    "    "
   ]
  },
  {
   "cell_type": "markdown",
   "id": "d170cc50",
   "metadata": {},
   "source": [
    "### Exercício 12: Strings maiores que n carateres\n",
    "- Defina uma função que recebe dois argumentos, uma lista de strings e um número inteiro, e que devolve uma nova lista de strings em que estas têm um comprimento igual ou superior ao valor inteiro passado como argumento."
   ]
  },
  {
   "cell_type": "code",
   "execution_count": 43,
   "id": "1944ef1d",
   "metadata": {},
   "outputs": [
    {
     "data": {
      "text/plain": [
       "['aba', 'ahsas', 'shsh', 'sjsjjs']"
      ]
     },
     "execution_count": 43,
     "metadata": {},
     "output_type": "execute_result"
    }
   ],
   "source": [
    "# Solução do exercício 12\n",
    "lista1=[\"aba\",\"ahsas\",\"shsh\",\"sjsjjs\"]\n",
    "lista2=[]\n",
    "def stringsMaioresLista(lista, n):\n",
    "    for x in lista:\n",
    "        if len(str(x))>=n:\n",
    "            lista2.append(x)\n",
    "\n",
    "\n",
    "\n",
    "\n",
    "\n",
    "    \n",
    "    return lista2\n",
    "stringsMaioresLista(lista1,3)"
   ]
  },
  {
   "cell_type": "markdown",
   "id": "af46fe06",
   "metadata": {},
   "source": [
    "### Exercício 13: Comum?\n",
    "- Defina uma função que recebe duas listas como argumento, e que devolve o valor booleano verdadeiro se as listas tiverem pelo menos um elemento comum."
   ]
  },
  {
   "cell_type": "code",
   "execution_count": 49,
   "id": "7a2f4413",
   "metadata": {},
   "outputs": [
    {
     "data": {
      "text/plain": [
       "False"
      ]
     },
     "execution_count": 49,
     "metadata": {},
     "output_type": "execute_result"
    }
   ],
   "source": [
    "# Solução do exercício 13\n",
    "listaA=[1,2,3,4,5]\n",
    "listaB=[10,6,7,8.9]\n",
    "\n",
    "def haComuns(listaA, listaB):\n",
    " for x in listaA:\n",
    "    if x in listaB:\n",
    "\n",
    "    \n",
    "        return True\n",
    "    return False\n",
    "    \n",
    "haComuns(listaA,listaB)"
   ]
  },
  {
   "cell_type": "markdown",
   "id": "061bae0e",
   "metadata": {},
   "source": [
    "### Exercício 14: Comuns\n",
    "- Defina uma função que recebe duas listas como argumento, e que devolve uma nova lista com os valores comuns às duas listas."
   ]
  },
  {
   "cell_type": "code",
   "execution_count": 53,
   "id": "02db9458",
   "metadata": {},
   "outputs": [
    {
     "data": {
      "text/plain": [
       "[1, 3, 4]"
      ]
     },
     "execution_count": 53,
     "metadata": {},
     "output_type": "execute_result"
    }
   ],
   "source": [
    "# Solução do exercício 14\n",
    "listaA=[1,2,3,4,5,3]\n",
    "listaB=[1,4,7,8,3]\n",
    "listaC=[]\n",
    "def comuns(listaA, listaB):\n",
    "    for x in listaA:\n",
    "        if x in listaB and x not in listaC:\n",
    "            listaC.append(x)\n",
    "\n",
    "    \n",
    "    return listaC\n",
    "comuns(listaA, listaB)"
   ]
  },
  {
   "cell_type": "markdown",
   "id": "af4f2b11",
   "metadata": {},
   "source": [
    "### Exercício 15: Únicos\n",
    "- Defina uma função que recebe duas listas como argumento, e que devolve uma nova lista com os valores que apenas existem numa delas."
   ]
  },
  {
   "cell_type": "code",
   "execution_count": 60,
   "id": "01a0d35e",
   "metadata": {},
   "outputs": [
    {
     "data": {
      "text/plain": [
       "[2, 5, 7, 8]"
      ]
     },
     "execution_count": 60,
     "metadata": {},
     "output_type": "execute_result"
    }
   ],
   "source": [
    "# Solução do exercício 15\n",
    "listaA=[1,2,3,4,5,3]\n",
    "listaB=[1,4,7,8,3]\n",
    "listaC=[]\n",
    "def unicos(listaA, listaB):\n",
    "    for x in listaA:\n",
    "        if x not in listaB :\n",
    "            listaC.append(x)\n",
    "\n",
    "    for x in listaB:\n",
    "        if x not in listaA :\n",
    "            listaC.append(x)       \n",
    "    \n",
    "    return listaC\n",
    "unicos(listaA, listaB)"
   ]
  },
  {
   "cell_type": "markdown",
   "id": "2acbab46",
   "metadata": {},
   "source": [
    "### Exercício 16: indiceDe\n",
    "- Defina uma função que recebe uma lista e um elemento como argumento, e que devolve o índice desse elemento na lista. No caso do elemento não existir na lista deverá devolver o valor -1."
   ]
  },
  {
   "cell_type": "code",
   "execution_count": 67,
   "id": "3891e6c3",
   "metadata": {},
   "outputs": [
    {
     "data": {
      "text/plain": [
       "-1"
      ]
     },
     "execution_count": 67,
     "metadata": {},
     "output_type": "execute_result"
    }
   ],
   "source": [
    "# Solução do exercício 16\n",
    "lista=[1,26,38,99,95,37]\n",
    "\n",
    "def indiceDe(lista, elem):\n",
    "    if elem  in lista:\n",
    "     return   lista.index(elem)\n",
    "    return -1\n",
    "\n",
    "    \n",
    "    \n",
    "indiceDe(lista, 97)\n"
   ]
  },
  {
   "cell_type": "markdown",
   "id": "1d9c2fbc",
   "metadata": {},
   "source": [
    "### Exercício 17: estaOrdenada\n",
    "- Defina uma função que recebe uma lista de números e verifica se a mesma está ordenada por ordem crescente."
   ]
  },
  {
   "cell_type": "code",
   "execution_count": 83,
   "id": "fb44546a",
   "metadata": {},
   "outputs": [
    {
     "data": {
      "text/plain": [
       "'A lista  não está por ordem crescente'"
      ]
     },
     "execution_count": 83,
     "metadata": {},
     "output_type": "execute_result"
    }
   ],
   "source": [
    "# Solução do exercício 17\n",
    "lista=[1,26,38,99,0]\n",
    "def estaOrdenada(lista):\n",
    "    for i in range(len(lista)-1):\n",
    "        if lista[i]>lista[i+1]:\n",
    "            return \"A lista  não está por ordem crescente\"\n",
    "    return \"A lista  está por ordem crescente\"\n",
    "        \n",
    "\n",
    "        \n",
    "estaOrdenada(lista)\n",
    "    \n",
    "            "
   ]
  },
  {
   "cell_type": "markdown",
   "id": "4c48dc90",
   "metadata": {},
   "source": [
    "### Exercício 18: estaOrdenadaCD\n",
    "- Modifique a função do exercício anterior para receber um parâmetro extra, **ordem**, que poderá ter valores \"C\" ou \"D\" e que vai verificar se a lista está ordenada por ordem crescente se **ordem=\"C\"** ou se está ordenada por ordem decrescente se **ordem=\"D\"**."
   ]
  },
  {
   "cell_type": "code",
   "execution_count": 90,
   "id": "f4b83960",
   "metadata": {},
   "outputs": [
    {
     "data": {
      "text/plain": [
       "'A lista  não está por ordem crescente'"
      ]
     },
     "execution_count": 90,
     "metadata": {},
     "output_type": "execute_result"
    }
   ],
   "source": [
    "# Solução do exercício 18\n",
    "lista=[99,33,22,11]\n",
    "ordem=input(str(\"C ou D\"))\n",
    "def estaOrdenadaCD(lista,ordem):\n",
    "    if ordem==\"C\":\n",
    "        for i in range(len(lista)-1):\n",
    "            if lista[i]>lista[i+1]:\n",
    "                return \"A lista  não está por ordem crescente\"\n",
    "        return \"A lista  está por ordem crescente\"\n",
    "    if ordem==\"D\" :\n",
    "        for i in  range(len(lista)-1):\n",
    "            if lista [i]<lista[i+1]:\n",
    "                return\" A lista não está por ordem decrescente\"\n",
    "        return\" A lista está por ordem decrescente\"\n",
    "\n",
    "estaOrdenadaCD(lista,ordem)\n",
    "   \n",
    "    \n"
   ]
  },
  {
   "cell_type": "markdown",
   "id": "4193a91b",
   "metadata": {},
   "source": [
    "### TPC4: Aplicação para manipulação de listas de inteiros\n",
    "- Crie uma aplicação em Python que coloca no monitor o seguinte menu:\n",
    "    * (1) Criar Lista \n",
    "    * (2) Ler Lista\n",
    "    * (3) Soma\n",
    "    * (4) Média\n",
    "    * (5) Maior\n",
    "    * (6) Menor\n",
    "    * (7) estaOrdenada por ordem crescente\n",
    "    * (8) estaOrdenada por ordem decrescente\n",
    "    * (9) Procura um elemento\n",
    "    * (0) Sair\n",
    "- O utilizador irá escolher uma das opções introduzindo o número correspondente;\n",
    "- Se a opção não for sair, a aplicação executa a operação pretendida, apresenta o resultado e a seguir apresenta de novo o menu;\n",
    "- Se a opção for sair, a aplicação termina colocando uma mensagem no monitor.\n",
    "\n",
    "* No desenvolvimento da aplicação deverá ter em atenção o seguinte:\n",
    "    - A aplicação terá uma variável interna para guardar uma lista de números;\n",
    "    - Na opção 1, deverá ser criada uma lista de números aleatórios entre 1 e 100 que será guardada na variável interna;\n",
    "    - Na opção 2, deverá ser criada uma lista com números introduzidos pelo utilizador, que será guardada na variável interna;\n",
    "    - Nestas primeiras opções, se a variável interna já tiver uma lista, esta será sobreposta/apagada pela nova lista;\n",
    "    - Na opção 3, será calculada a soma dos elementos na lista no momento;\n",
    "    - Na opção 4, será calculada a média dos elementos na lista no momento;\n",
    "    - Na opção 5, será calculado o maior elemento da lista no momento;\n",
    "    - Na opção 6, será calculado o menor elemento da lista no momento;\n",
    "    - Na opção 7, a aplicação deverá indicar (Sim/Não) se a lista está ordenada por ordem crescente;\n",
    "    - Na opção 8, a aplicação deverá indicar (Sim/Não) se a lista está ordenada por ordem decrescente;\n",
    "    - Na opção 9, a aplicação irá procurar um elemento na lista, se o encontrar deverá devolver a sua posição, devolverá -1 se o elemento não estiver na lista;\n",
    "    - Se o utilizador selecionar a opção 0, a aplicação deverá terminar mostrando a lista que está nesse momento guardada."
   ]
  },
  {
   "cell_type": "code",
   "execution_count": 194,
   "id": "acf7da0e",
   "metadata": {},
   "outputs": [
    {
     "name": "stdout",
     "output_type": "stream",
     "text": [
      "(1) Criar Lista\n",
      "     (2) Ler Lista\n",
      "     (3) Soma\n",
      "     (4) Média\n",
      "     (5) Maior\n",
      "     (6) Menor\n",
      "     (7) estaOrdenada por ordem crescente\n",
      "     (8) estaOrdenada por ordem decrescente\n",
      "     (9) Procura um elemento\n",
      "     (0) Sair\n",
      "[24, 91, 23]\n",
      "Está na posição 3\n",
      "Saíste do jogo!\n"
     ]
    }
   ],
   "source": [
    "print(\"\"\"(1) Criar Lista\n",
    "     (2) Ler Lista\n",
    "     (3) Soma\n",
    "     (4) Média\n",
    "     (5) Maior\n",
    "     (6) Menor\n",
    "     (7) estaOrdenada por ordem crescente\n",
    "     (8) estaOrdenada por ordem decrescente\n",
    "     (9) Procura um elemento\n",
    "     (0) Sair\"\"\")\n",
    "modo=-1\n",
    "ListaP = []\n",
    "import random\n",
    "while  modo != 0:\n",
    "    modo=int(input(\"introduza um modo de 0 a 9\"))\n",
    "    if modo==1:\n",
    "        def criaLista(N):\n",
    "            global ListaP\n",
    "            ListaP=[]\n",
    "            n=1\n",
    "            N=int(input(\"quantos numeros a tua lista vai ter\"))\n",
    "            while n<=N:\n",
    "                ListaP.append(random.randrange(1,100))\n",
    "                n=n+1        \n",
    "            return ListaP\n",
    "        print(criaLista(N),flush=True)\n",
    "    if modo==2:\n",
    "        def leLista(N):\n",
    "            global ListaP\n",
    "            ListaP=[]\n",
    "            k=0\n",
    "            while k<N:\n",
    "                k=k+1\n",
    "                ListaP.append(int(input(\"introduza um número\")))\n",
    "            return ListaP\n",
    "        N=int(input(\"introduza um total de números\"))\n",
    "        print(leLista(N),flush=True)\n",
    "    if modo==3:\n",
    "        def somaLista (ListaP):\n",
    "            \n",
    "            soma = 0\n",
    "            for x in ListaP:\n",
    "                soma = soma + x\n",
    "        \n",
    "            return soma\n",
    "        print(somaLista(ListaP),flush=True)\n",
    "    if modo==4:\n",
    "        def mediaLista(ListaP):\n",
    "            soma=0\n",
    "            for n in ListaP:\n",
    "                soma=soma+n\n",
    "            return soma/len(ListaP)\n",
    "        print(mediaLista(ListaP),flush=True)\n",
    "    if modo==5:\n",
    "        def maiorLista(ListaP):\n",
    "         \n",
    "         maior=0\n",
    "         for n in ListaP:\n",
    "            if n>maior:\n",
    "               maior=n\n",
    "         return maior\n",
    "        print(maiorLista(ListaP),flush=True)\n",
    "    if modo==6:\n",
    "       def menorLista(ListaP):\n",
    "          \n",
    "          menor=99\n",
    "          for n in ListaP:\n",
    "             if n<menor:\n",
    "                menor=n\n",
    "          return menor\n",
    "       print(menorLista(ListaP),flush=True)\n",
    "    if modo==7:\n",
    "      def esta_ordenada_crescente(ListaP):\n",
    "           for i in range(len(ListaP)-1):\n",
    "              if ListaP[i]>ListaP[i+1]:\n",
    "                return \" A lista não está por ordem crescente\"\n",
    "           return \"A lista está por ordem crescente\"\n",
    "      print(esta_ordenada_crescente(ListaP),flush=True)\n",
    "    if modo==8:\n",
    "      def esta_ordenada_decrescente(ListaP):\n",
    "            for i in  range(len(ListaP)-1):\n",
    "              if ListaP [i]<ListaP[i+1]:\n",
    "                return\" A lista não está por ordem decrescente\"\n",
    "              return\" A lista está por ordem decrescente\"\n",
    "      print(esta_ordenada_decrescente(ListaP),flush=True)\n",
    "    if modo==9:\n",
    "      def procurar(ListaP):\n",
    "         x=int(input(\"introduza um número\"))\n",
    "         for n in ListaP:\n",
    "             if n==x:\n",
    "               return \"Está na posição \" + str(ListaP.index(x) + 1)\n",
    "         return -1\n",
    "      print(procurar(ListaP),flush=True)\n",
    "if modo==0:\n",
    "   print(\"Saíste do jogo!\")\n",
    "\n",
    "         \n",
    "     \n",
    "      \n",
    "        \n",
    "               \n",
    "        \n",
    "            \n"
   ]
  },
  {
   "cell_type": "code",
   "execution_count": null,
   "id": "c43b2431",
   "metadata": {},
   "outputs": [],
   "source": []
  }
 ],
 "metadata": {
  "kernelspec": {
   "display_name": "Python 3.9.1 64-bit",
   "language": "python",
   "name": "python3"
  },
  "language_info": {
   "codemirror_mode": {
    "name": "ipython",
    "version": 3
   },
   "file_extension": ".py",
   "mimetype": "text/x-python",
   "name": "python",
   "nbconvert_exporter": "python",
   "pygments_lexer": "ipython3",
   "version": "3.11.5"
  },
  "vscode": {
   "interpreter": {
    "hash": "aee8b7b246df8f9039afb4144a1f6fd8d2ca17a180786b69acc140d282b71a49"
   }
  }
 },
 "nbformat": 4,
 "nbformat_minor": 5
}
