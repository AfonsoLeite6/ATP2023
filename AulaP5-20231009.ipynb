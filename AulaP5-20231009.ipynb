{
 "cells": [
  {
   "cell_type": "markdown",
   "id": "1e545158",
   "metadata": {},
   "source": [
    "# Aula Prática 5 (guião)\n",
    "### Semana de 9 a 13 de Outubro de 2023\n",
    "### José Carlos Ramalho e Luís Cunha\n",
    "### Sinopsis:\n",
    "Algoritmos e modelação de problemas com listas e listas de listas."
   ]
  },
  {
   "cell_type": "markdown",
   "id": "1d9c2fbc",
   "metadata": {},
   "source": [
    "### Exercício 1 (repescado): estaOrdenada\n",
    "- Defina uma função que recebe uma lista de números e verifica se a mesma está ordenada por ordem crescente dando como resultado um valor **True** ou **False**."
   ]
  },
  {
   "cell_type": "code",
   "execution_count": 1,
   "id": "fb44546a",
   "metadata": {},
   "outputs": [
    {
     "name": "stdout",
     "output_type": "stream",
     "text": [
      "True\n"
     ]
    }
   ],
   "source": [
    "# Solução do exercício 1\n",
    "listaA = [2,4,5,7]\n",
    "def estaOrdenada(listaA):\n",
    "  for i in range(len(listaA)-1):\n",
    "       if listaA[i]>listaA[i+1]:\n",
    "        return False\n",
    "  return True\n",
    "print(estaOrdenada(listaA))\n",
    "     \n",
    "\n",
    "\n",
    "\n",
    "\n",
    "\n"
   ]
  },
  {
   "cell_type": "markdown",
   "id": "274abafd",
   "metadata": {},
   "source": [
    "### Exercício 2: ordenaLista\n",
    "\n",
    "* Defina uma função que recebe uma lista de números e que dá como resultado uma nova lista ordenada de forma crescente: pode usar o método _sort_, mas se o fizer implemente uma segunda solução recorrendo a um ciclo _while_."
   ]
  },
  {
   "cell_type": "code",
   "execution_count": 2,
   "id": "368aa7cd",
   "metadata": {},
   "outputs": [
    {
     "name": "stdout",
     "output_type": "stream",
     "text": [
      "[1, 2, 3, 5, 6, 9, 45, 88, 99]\n"
     ]
    }
   ],
   "source": [
    "# Solução do exercício 2\n",
    "listaA=[2,6,5,3,1,9,99,88,45]\n",
    "def ordenaLista(listaA):\n",
    "    k=len(listaA)\n",
    "    while k>0:\n",
    "        k=k-1    \n",
    "        for x in range(len(listaA)-1):\n",
    "            if listaA[x]>listaA[x+1]:\n",
    "\n",
    "\n",
    "                    listaA[x],listaA[x+1]=listaA[x+1],listaA[x]\n",
    "         \n",
    "    return listaA\n",
    "print(ordenaLista(listaA))"
   ]
  },
  {
   "cell_type": "markdown",
   "id": "bb2a82e2",
   "metadata": {},
   "source": [
    "### Exercício 3: Parques de estacionamento do Continente\n",
    "\n",
    "Foste encarregado de criar uma pequena aplicação para gerir os parques de estacionamento do Continente (aqueles inteligentes que têm uma luzinha a indicar se o lugar está livre ou ocupado). \n",
    "\n",
    "Considera que cada lugar num parque é identificado por um número inteiro. \n",
    "Um parque é definido pelo seu nome, o número de lugares que tem disponíveis e uma lista dos lugares que se encontram ocupados no momento.\n",
    "\n",
    "Considera a seguinte sugestão para o modelo dos parques:\n",
    "```\n",
    "Parques = [Parque]\n",
    "Parque = [nlugares, ocupados, nome]\n",
    "nlugares = Int\n",
    "ocupados = [lugar]\n",
    "nome = String\n",
    "lugar = Int\n",
    "```\n",
    "Que poderá ser usado num programa da seguinte forma:\n",
    "```\n",
    "p1 = [600, [], \"P1\"]\n",
    "p2 = [1500, [], \"P2\"]\n",
    "parques = []\n",
    "...\n",
    "parques = inserirParque(parques, p1)\n",
    "parques = inserirParque(parques ,p2)\n",
    "...\n",
    "listar(parques)\n",
    "...\n",
    "if(disponivel( parques, \"P1\", 23 ):\n",
    "    parques = estaciona( parques, \"P1\", 23 );\n",
    "...\n",
    "listardisponibilidades(parques);\n",
    "...\n",
    "```\n",
    "Especifique as funções utilizadas no exemplo:\n",
    "\n",
    "1. `inserirParque( listap, p )` - que insere o parque `p` na lista de parques;\n",
    "2. `listar( listap )` - que lista no monitor todos os parques disponíveis juntamente com a sua informação: nome e número de lugares;\n",
    "3. `disponivel( listap, nomep, lugar )` - que dá como resultado **False** se o lugar **lugar** já estiver ocupado nesse parque e **True** caso contrário;\n",
    "4. `estaciona( listap, nomep, lugar)` - que dá como resultado um novo sistema de parques após a entrada de um carro no parque de nome **nomep** e que estacionou no lugar **lugar**;\n",
    "5. `listardisponibilidades( listap )` - que lista no monitor o nome de todos parques activos juntamente com o número de lugares disponíveis em cada um;\n",
    "6. `listarP(listap, nomep)` - que lista no monitor a informação do parque, nome, lugares e lista de ocupados;\n",
    "7. `libertaLugar(listap, nomep, lugar)` - que retira **lugar** da lista de lugares ocupados do respetivo parque;\n",
    "8. `criaParque(listap, nomep, lugares)` - que acrescenta um novo parque à lista de parques, devolvendo uma nova lista;\n",
    "9. `removeParque(listap, nomep)` - que remove o parque da lista, se a lista de lugares ocupados estiver vazia;\n",
    "10. Especifique uma aplicação, com estas opções e outras que façam sentido, para fazer a gestão dos parques: a aplicação deverá ter um menu de opções e ciclicamente executará as operações selecionadas pelo utilizador até este selecionar a opção de terminar (as funções acima indicadas são os construtoes do modelo, precisam de parâmetros, devem ser encapsuladas em funções que lêem esses parâmetros).  "
   ]
  },
  {
   "cell_type": "code",
   "execution_count": 10,
   "id": "4c10ae94",
   "metadata": {},
   "outputs": [],
   "source": [
    "# Solução do exercício 3\n",
    "# ----------------------\n",
    "# Modelo:\n",
    "#   Parques = [Parque]\n",
    "#   Parque = [nlugares, ocupados, nome]\n",
    "#   nlugares = Int\n",
    "#   ocupados = [lugar]\n",
    "#   nome = String\n",
    "#   lugar = Int\n",
    "\n",
    "def inserirParque( listap, p ):\n",
    "    listap.append(p)\n",
    "    return listap\n",
    "\n",
    "def listar( listap ):\n",
    "    for p in listap:\n",
    "        return \"Nº lugares\",p[0],\"lugares ocupados\",p[2],\"Nome\",p[-1]\n",
    "\n",
    "def disponivel( listap, nomep, lugar ):\n",
    "\n",
    "    for p in listap:\n",
    "        if lugar in \n",
    "\n",
    "    return\n",
    "\n",
    "def estaciona( listap, nomep, lugar):\n",
    "    return \n",
    "\n",
    "\n",
    "def listardisponibilidades( listap ):\n",
    "    return\n",
    "\n",
    "\n",
    "def listarP(listap, nomep):\n",
    "    return\n",
    "\n",
    "\n",
    "def libertaLugar(listap, nomep, lugar):\n",
    "    return\n",
    "\n",
    "\n",
    "def criaParque(listap, nomep, lugares):\n",
    "    return\n",
    "\n",
    "\n",
    "def removeParque(listap, nomep):\n",
    "    return\n",
    "\n",
    "def menu():\n",
    "    print(\"\"\" \n",
    "    (1) Reset\n",
    "    (2) Criar Parque\n",
    "    (3) Remover Parque\n",
    "    (4) Listar Parques\n",
    "    (5) Consulta Parque \n",
    "    ...\n",
    "    (0) Sair\n",
    "    \"\"\")\n"
   ]
  },
  {
   "cell_type": "code",
   "execution_count": 4,
   "id": "002208d4",
   "metadata": {},
   "outputs": [
    {
     "name": "stdout",
     "output_type": "stream",
     "text": [
      "Nº lugares 600\n",
      "Nº lugares 1500\n",
      "None\n"
     ]
    },
    {
     "ename": "TypeError",
     "evalue": "'NoneType' object is not iterable",
     "output_type": "error",
     "traceback": [
      "\u001b[1;31m---------------------------------------------------------------------------\u001b[0m",
      "\u001b[1;31mTypeError\u001b[0m                                 Traceback (most recent call last)",
      "\u001b[1;32mc:\\Users\\afons\\atp2023\\tp5\\AulaP5-20231009.ipynb Cell 8\u001b[0m line \u001b[0;36m1\n\u001b[0;32m     <a href='vscode-notebook-cell:/c%3A/Users/afons/atp2023/tp5/AulaP5-20231009.ipynb#X10sZmlsZQ%3D%3D?line=11'>12</a>\u001b[0m \u001b[39mfor\u001b[39;00m j \u001b[39min\u001b[39;00m \u001b[39mrange\u001b[39m(\u001b[39m1\u001b[39m,\u001b[39m101\u001b[39m):\n\u001b[0;32m     <a href='vscode-notebook-cell:/c%3A/Users/afons/atp2023/tp5/AulaP5-20231009.ipynb#X10sZmlsZQ%3D%3D?line=12'>13</a>\u001b[0m     parques \u001b[39m=\u001b[39m estaciona(parques, \u001b[39m\"\u001b[39m\u001b[39mP1\u001b[39m\u001b[39m\"\u001b[39m, j\u001b[39m*\u001b[39m\u001b[39m2\u001b[39m)\n\u001b[1;32m---> <a href='vscode-notebook-cell:/c%3A/Users/afons/atp2023/tp5/AulaP5-20231009.ipynb#X10sZmlsZQ%3D%3D?line=13'>14</a>\u001b[0m listar(parques)\n\u001b[0;32m     <a href='vscode-notebook-cell:/c%3A/Users/afons/atp2023/tp5/AulaP5-20231009.ipynb#X10sZmlsZQ%3D%3D?line=14'>15</a>\u001b[0m \u001b[39mprint\u001b[39m(parques[\u001b[39m0\u001b[39m])\n",
      "\u001b[1;32mc:\\Users\\afons\\atp2023\\tp5\\AulaP5-20231009.ipynb Cell 8\u001b[0m line \u001b[0;36m1\n\u001b[0;32m     <a href='vscode-notebook-cell:/c%3A/Users/afons/atp2023/tp5/AulaP5-20231009.ipynb#X10sZmlsZQ%3D%3D?line=14'>15</a>\u001b[0m \u001b[39mdef\u001b[39;00m \u001b[39mlistar\u001b[39m( listap ):\n\u001b[1;32m---> <a href='vscode-notebook-cell:/c%3A/Users/afons/atp2023/tp5/AulaP5-20231009.ipynb#X10sZmlsZQ%3D%3D?line=15'>16</a>\u001b[0m     \u001b[39mfor\u001b[39;00m p \u001b[39min\u001b[39;00m listap:\n\u001b[0;32m     <a href='vscode-notebook-cell:/c%3A/Users/afons/atp2023/tp5/AulaP5-20231009.ipynb#X10sZmlsZQ%3D%3D?line=16'>17</a>\u001b[0m         \u001b[39mprint\u001b[39m(\u001b[39m\"\u001b[39m\u001b[39mNº lugares\u001b[39m\u001b[39m\"\u001b[39m,p[\u001b[39m0\u001b[39m],)\n\u001b[0;32m     <a href='vscode-notebook-cell:/c%3A/Users/afons/atp2023/tp5/AulaP5-20231009.ipynb#X10sZmlsZQ%3D%3D?line=17'>18</a>\u001b[0m     \u001b[39mreturn\u001b[39;00m\n",
      "\u001b[1;31mTypeError\u001b[0m: 'NoneType' object is not iterable"
     ]
    }
   ],
   "source": [
    "# ---------------------------------------\n",
    "# Teste às funções\n",
    "# ---------------------------------------\n",
    "\n",
    "p1 = (600, [], \"P1\")\n",
    "p2 = (1500, [], \"P2\")\n",
    "parques = []\n",
    "parques = inserirParque(parques, p1)\n",
    "parques = inserirParque(parques ,p2)\n",
    "listar(parques)\n",
    "print(disponivel(parques, \"P2\", 67))\n",
    "for j in range(1,101):\n",
    "    parques = estaciona(parques, \"P1\", j*2)\n",
    "listar(parques)\n",
    "print(parques[0])"
   ]
  },
  {
   "cell_type": "code",
   "execution_count": null,
   "id": "04d4cc18",
   "metadata": {},
   "outputs": [],
   "source": [
    "# Aplicação para gerir parques\n",
    "opcao = 1\n",
    "while opcao != '0':\n",
    "    menu()\n",
    "    opcao = input(\"Introduza uma opção: \")\n",
    "    \n"
   ]
  },
  {
   "cell_type": "markdown",
   "id": "212a8b18",
   "metadata": {},
   "source": [
    "### Exercício 4: splitLista\n",
    "\n",
    "* Defina uma função que recebe uma lista de números e um número e que dá como resultado uma lista com dois elementos, o primeiro elemento é uma lista com os números menores ou iguais ao número passado como argumento, e o segundo elemento é uma lista com os maiores."
   ]
  },
  {
   "cell_type": "code",
   "execution_count": null,
   "id": "c7a21191",
   "metadata": {},
   "outputs": [
    {
     "name": "stdout",
     "output_type": "stream",
     "text": [
      "([7, 8, 9, 10], [1, 2, 3, 4])\n"
     ]
    }
   ],
   "source": [
    "# Solução do exercício 4\n",
    "listaA=[1,2,3,4,7,8,9,10]\n",
    "listamaiores=[]\n",
    "listamenores=[]\n",
    "def splitLista(listaA):\n",
    "    media=sum(listaA)/len(listaA)\n",
    "    for x in listaA:\n",
    "            if x<=media:\n",
    "                listamenores.append(x)\n",
    "            if x>media:\n",
    "                listamaiores.append(x)\n",
    "    return listamaiores, listamenores\n",
    "print(splitLista(listaA))\n",
    "\n",
    "\n",
    "    \n",
    "    "
   ]
  },
  {
   "cell_type": "markdown",
   "id": "caf54e37",
   "metadata": {},
   "source": [
    "### Exercício 5: mergeListas\n",
    "\n",
    "* Defina uma função que recebe duas listas de números ordenadas e dá como resultado uma nova lista ordenada com os elementos das duas listas."
   ]
  },
  {
   "cell_type": "code",
   "execution_count": null,
   "id": "444f1f0f",
   "metadata": {},
   "outputs": [],
   "source": [
    "# Solução do exercício 5\n",
    "def splitLista(lista):\n",
    "    \n",
    "    return"
   ]
  },
  {
   "cell_type": "markdown",
   "id": "4193a91b",
   "metadata": {},
   "source": [
    "### TPC5: Aplicação para Gerir um Cinema\n",
    "\n",
    "Suponha que está a desenvolver uma aplicacão para gestão de um conjunto de salas de cinema de um centro comercial. \n",
    "Nesse centro comercial existem algumas salas de cinema (que poderão estar a exibir filmes ou não), cada sala tem uma determinada \n",
    "lotação, uma lista com a referência dos bilhetes vendidos (lugares ocupados; cada lugar é identificado por um número inteiro), e cada sala tem um filme associado.\n",
    "\n",
    "Considera a seguinte sugestão para o modelo dos cinemas:\n",
    "```\n",
    "Cinema = [Sala]\n",
    "Sala = [nlugares, Vendidos, filme]\n",
    "nlugares = Int\n",
    "filme = String \n",
    "Vendidos = [Int]\n",
    "```\n",
    "  \n",
    "Que poderá ser usado num programa da seguinte forma:\n",
    "```\n",
    "sala1 = (150, [], \"Twilight\")\n",
    "sala2 = (200, [], \"Hannibal\")\n",
    "cinema1 = []\n",
    "...\n",
    "cinema1 = inserirSala(cinema1,sala1)\n",
    "cinema1 = inserirSala(cinema1,sala2)\n",
    "...\n",
    "listar(cinema1)\n",
    "...\n",
    "\n",
    "if(disponivel(cinema1, \"Twilight\", 17 )):\n",
    "  cinema1 = vendebilhete(cinema1, \"Twilight\", 17 )\n",
    "...\n",
    "listardisponibilidades(cinema1)\n",
    "...\n",
    "```\n",
    "\n",
    "Especifique as funções utilizadas no exemplo:\n",
    "\n",
    "1. `listar( cinema )` - que lista no monitor todos os filmes que estão em exibição nas salas do cinema passado como argumento;\n",
    "2. `disponivel( cinema, filme, lugar )` - que dá como resultado **False** se o lugar lugar já estiver ocupado na sala onde o filme está a ser exibido e dará como resultado **True** se o inverso acontecer;\n",
    "3. `vendebilhete( cinema, filme, lugar )` - que dá como resultado um novo cinema resultante de acrescentar o lugar à lista dos lugares ocupados, na sala onde está a ser exibido o filme;\n",
    "4. `listardisponibilidades( cinema )` - que, para um dado cinema, lista no monitor para cada sala, o filme que está a ser exibido e o total de lugares disponíveis nessa sala (número de lugares na sala menos o número de lugares ocupados);\n",
    "5. `inserirSala( cinema, sala )` - que acrescenta uma sala nova a um cinema (devendo verificar se a sala já existe);\n",
    "6. Acrescente todas as outras funcionalidades que achar necessárias;\n",
    "7. À semelhança do exercício 3, construa uma aplicação com um menu de interface para as operações.\n"
   ]
  },
  {
   "cell_type": "code",
   "execution_count": 6,
   "id": "ce301c40",
   "metadata": {},
   "outputs": [
    {
     "name": "stdout",
     "output_type": "stream",
     "text": [
      "1. `listar( cinema )` - que lista no monitor todos os filmes que estão em exibição nas salas do cinema passado como argumento;\n",
      "        2. `disponivel( cinema, filme, lugar )` - que dá como resultado **False** se o lugar lugar já estiver ocupado na sala onde o filme está a ser exibido e dará como resultado **True** se o inverso acontecer;\n",
      "        3. `vendebilhete( cinema, filme, lugar )` - que dá como resultado um novo cinema resultante de acrescentar o lugar à lista dos lugares ocupados, na sala onde está a ser exibido o filme;\n",
      "        4. `listardisponibilidades( cinema )` - que, para um dado cinema, lista no monitor para cada sala, o filme que está a ser exibido e o total de lugares disponíveis nessa sala (número de lugares na sala menos o número de lugares ocupados);\n",
      "        5. `inserirSala( cinema, sala )` - que acrescenta uma sala nova a um cinema (devendo verificar se a sala já existe);\n",
      "        6. Acrescente todas as outras funcionalidades que achar necessárias;\n",
      "        7. À semelhança do exercício 3, construa uma aplicação com um menu de interface para as operações.\n",
      "        \n"
     ]
    },
    {
     "ename": "UnboundLocalError",
     "evalue": "cannot access local variable 'cinema' where it is not associated with a value",
     "output_type": "error",
     "traceback": [
      "\u001b[1;31m---------------------------------------------------------------------------\u001b[0m",
      "\u001b[1;31mUnboundLocalError\u001b[0m                         Traceback (most recent call last)",
      "\u001b[1;32mc:\\Users\\afons\\atp2023\\tp5\\AulaP5-20231009.ipynb Cell 15\u001b[0m line \u001b[0;36m6\n\u001b[0;32m     <a href='vscode-notebook-cell:/c%3A/Users/afons/atp2023/tp5/AulaP5-20231009.ipynb#X20sZmlsZQ%3D%3D?line=61'>62</a>\u001b[0m    \u001b[39mif\u001b[39;00m num\u001b[39m==\u001b[39m\u001b[39m4\u001b[39m:\n\u001b[0;32m     <a href='vscode-notebook-cell:/c%3A/Users/afons/atp2023/tp5/AulaP5-20231009.ipynb#X20sZmlsZQ%3D%3D?line=62'>63</a>\u001b[0m       listardisponibilidades(cinema)\n\u001b[1;32m---> <a href='vscode-notebook-cell:/c%3A/Users/afons/atp2023/tp5/AulaP5-20231009.ipynb#X20sZmlsZQ%3D%3D?line=63'>64</a>\u001b[0m \u001b[39mprint\u001b[39m(menu())\n",
      "\u001b[1;32mc:\\Users\\afons\\atp2023\\tp5\\AulaP5-20231009.ipynb Cell 15\u001b[0m line \u001b[0;36m4\n\u001b[0;32m     <a href='vscode-notebook-cell:/c%3A/Users/afons/atp2023/tp5/AulaP5-20231009.ipynb#X20sZmlsZQ%3D%3D?line=41'>42</a>\u001b[0m num\u001b[39m=\u001b[39m\u001b[39mint\u001b[39m(\u001b[39minput\u001b[39m(\u001b[39m\"\u001b[39m\u001b[39mIntroduza um número\u001b[39m\u001b[39m\"\u001b[39m))\n\u001b[0;32m     <a href='vscode-notebook-cell:/c%3A/Users/afons/atp2023/tp5/AulaP5-20231009.ipynb#X20sZmlsZQ%3D%3D?line=43'>44</a>\u001b[0m \u001b[39mif\u001b[39;00m num\u001b[39m==\u001b[39m\u001b[39m1\u001b[39m:\n\u001b[1;32m---> <a href='vscode-notebook-cell:/c%3A/Users/afons/atp2023/tp5/AulaP5-20231009.ipynb#X20sZmlsZQ%3D%3D?line=44'>45</a>\u001b[0m    lista\u001b[39m=\u001b[39mlistar(cinema)\n\u001b[0;32m     <a href='vscode-notebook-cell:/c%3A/Users/afons/atp2023/tp5/AulaP5-20231009.ipynb#X20sZmlsZQ%3D%3D?line=45'>46</a>\u001b[0m    \u001b[39mfor\u001b[39;00m filmes \u001b[39min\u001b[39;00m lista:\n\u001b[0;32m     <a href='vscode-notebook-cell:/c%3A/Users/afons/atp2023/tp5/AulaP5-20231009.ipynb#X20sZmlsZQ%3D%3D?line=46'>47</a>\u001b[0m       \u001b[39mprint\u001b[39m(filmes)\n",
      "\u001b[1;31mUnboundLocalError\u001b[0m: cannot access local variable 'cinema' where it is not associated with a value"
     ]
    }
   ],
   "source": [
    "\n",
    "\n",
    "\n",
    "\n",
    "sala1=[\"Sala 1\",60,[],\"Twilight\"]\n",
    "sala2=[\"Sala 2\",60,[],\"Endgame\"]\n",
    "sala3=[\"Sala 3\",55,[],\"Oppenheimer\"]\n",
    "sala4=[\"Sala 4\",40,[],\"Nemo\"]\n",
    "\n",
    "Cinema=[sala1,sala2,sala3,sala4]\n",
    "import random\n",
    "\n",
    "\n",
    "\n",
    "def listar(cinema):\n",
    "    print(\"--------Cartaz--------\")\n",
    "    for sala in cinema:\n",
    "        print(sala[0]+str(\": \")+sala[3],flush=True)\n",
    "    return\n",
    "\n",
    "\n",
    "def disponivel(Cinema,filme,lugar):\n",
    "    disponibilidade=False\n",
    "    for sala in Cinema:\n",
    "        if filme == sala[3] and lugar  not in sala[2]:            \n",
    "                disponibilidade=True\n",
    "    return disponibilidade\n",
    "\n",
    "def vendeBilhete(Cinema,filme,modo):\n",
    "    if modo==\"Não\": ###Escolhe um número aleatório dos lugares daquela sala\n",
    "        for sala in Cinema:\n",
    "             if filme==sala[3]:\n",
    "                res = \"\"\n",
    "                while res != \"aceite\":\n",
    "                    lugar = random.randrange(1,sala[1]+1) \n",
    "                    if disponivel(Cinema, filme, lugar): \n",
    "                        sala[2].append(lugar)\n",
    "                        print(\"O lugar \"+str(lugar)+\" foi reservado com sucesso, bom filme!\")\n",
    "                        print(sala)\n",
    "                        res = \"aceite\"\n",
    "                    else:\n",
    "                        res = \"recusado\"\n",
    "        \n",
    "\n",
    "    if modo==\"Sim\":###Escolhe o lugar que o utilizador inserir\n",
    "        for sala in Cinema:\n",
    "            if filme==sala[3]:\n",
    "                lugar = int(input(\"Escolha o lugar que quer\"))\n",
    "                if disponivel(Cinema,filme,lugar):\n",
    "                    sala[2].append(lugar)\n",
    "                    print(\"O lugar \"+str(lugar)+\" foi reservado com sucesso, bom filme!\")\n",
    "                    print(sala)\n",
    "                else:\n",
    "                    print(\"Este lugar já está ocupado, escolha outro!\")\n",
    "    \n",
    "\n",
    "def listarDisponibilidades(Cinema):\n",
    "    print(\"Estes são os filmes disponiveis no cinema:\")\n",
    "    for sala in Cinema:\n",
    "        x= sala[1] - len(sala[2]) \n",
    "        \n",
    "        print(sala[0] + \", com \"+str(x)+\" lugares disponiveis.\")\n",
    "    return    \n",
    "        \n",
    "\n",
    "\n",
    "\n",
    "def inserirSala( cinema, sala, lotação, filme ):\n",
    "    sala=[sala,lotação,[],filme]\n",
    "    \n",
    "    \n",
    "    if sala not in cinema:\n",
    "        cinema.append(sala)\n",
    "    print(\"A sala foi adicionada com sucesso!\")\n",
    "    print(sala[0]+\": com lotação de \"+str(sala[1])+\" lugares. Filme em exibição: \"+sala[3],flush=True)\n",
    "    \n",
    "\n",
    "\n",
    "\n",
    "menu=-1\n",
    "print(\"\"\"Bom dia! Obrigado por escolher o nosso Cinema, aqui estão os próximos passos: \n",
    "      (1) Listar todos os filmes em exibição;\n",
    "      (2) Verificar a disponibilidade da sala e do lugar;\n",
    "      (3) Comprar bilhete, somente após verificar a disponibilidade;\n",
    "      (4) Listar os lugares restantes em cada sala;\n",
    "      (5) Adiciona uma sala ao cinema;\n",
    "      (6) Fechar o menu.\"\"\")\n",
    "while menu !=6:\n",
    "    menu=int(input(\"Escolhe a tua opção.\"))\n",
    "\n",
    "    if menu==1:\n",
    "        listar(Cinema)\n",
    "\n",
    "    elif menu ==2:\n",
    "        print(disponivel(Cinema,input(\"Escolhe o filme que queres ver\"),int(input(\"Escolhe um lugar da sala\"))))\n",
    "\n",
    "    elif menu ==3:\n",
    "        vendeBilhete(Cinema,input(\"Escolhe o filme que queres ver\"), input(\"Deseja escolher o lugar?(Sim ou Não)\"))\n",
    "\n",
    "    \n",
    "    elif menu ==4:\n",
    "        listarDisponibilidades(Cinema)\n",
    "\n",
    "    elif menu ==5:\n",
    "        inserirSala(Cinema,input(\"Qual o nome da nova sala?\"),int(input(\"Qual a lotação da sala?\")),input((\"Qual o filme em exibição?\")))\n",
    "    \n",
    "print(\"Obrigado e Volte Sempre!\")\n",
    "\n",
    "      \n",
    "\n",
    "\n",
    "        \n",
    "            \n",
    "\n",
    "    \n",
    "\n",
    "\n",
    "    \n",
    "    "
   ]
  }
 ],
 "metadata": {
  "kernelspec": {
   "display_name": "Python 3.9.1 64-bit",
   "language": "python",
   "name": "python3"
  },
  "language_info": {
   "codemirror_mode": {
    "name": "ipython",
    "version": 3
   },
   "file_extension": ".py",
   "mimetype": "text/x-python",
   "name": "python",
   "nbconvert_exporter": "python",
   "pygments_lexer": "ipython3",
   "version": "3.11.5"
  },
  "vscode": {
   "interpreter": {
    "hash": "aee8b7b246df8f9039afb4144a1f6fd8d2ca17a180786b69acc140d282b71a49"
   }
  }
 },
 "nbformat": 4,
 "nbformat_minor": 5
}
